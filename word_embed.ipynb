{
 "cells": [
  {
   "cell_type": "code",
   "execution_count": 40,
   "source": [
    "import gensim \r\n",
    "import pandas as pd\r\n",
    "import numpy as np"
   ],
   "outputs": [],
   "metadata": {}
  },
  {
   "cell_type": "code",
   "execution_count": 41,
   "source": [
    "news_df = pd.read_csv(\"news_category.csv\")\r\n",
    "news_df[\"news_summary\"] = news_df[\"Title\"] + \" \" + news_df[\"Description\"]"
   ],
   "outputs": [],
   "metadata": {}
  },
  {
   "cell_type": "code",
   "execution_count": 42,
   "source": [
    "#simple preprocessing on text data.\r\n",
    "text = news_df.news_summary.apply(gensim.utils.simple_preprocess)\r\n",
    "text"
   ],
   "outputs": [
    {
     "output_type": "execute_result",
     "data": {
      "text/plain": [
       "0        [wall, st, bears, claw, back, into, the, black...\n",
       "1        [carlyle, looks, toward, commercial, aerospace...\n",
       "2        [oil, and, economy, cloud, stocks, outlook, re...\n",
       "3        [iraq, halts, oil, exports, from, main, southe...\n",
       "4        [oil, prices, soar, to, all, time, record, pos...\n",
       "                               ...                        \n",
       "14395    [gandhi, grandson, urges, palestinians, to, ma...\n",
       "14396    [six, dead, in, afghanistan, explosion, kabul,...\n",
       "14397    [iraqi, leaders, meet, in, peace, effort, bagh...\n",
       "14398    [without, power, as, storm, slams, mount, plea...\n",
       "14399    [evidence, on, second, plane, backs, terror, f...\n",
       "Name: news_summary, Length: 14400, dtype: object"
      ]
     },
     "metadata": {},
     "execution_count": 42
    }
   ],
   "metadata": {}
  },
  {
   "cell_type": "code",
   "execution_count": 43,
   "source": [
    "model = gensim.models.Word2Vec(\r\n",
    "    window = 10,\r\n",
    "    min_count = 2,\r\n",
    "    workers = 4\r\n",
    ")"
   ],
   "outputs": [],
   "metadata": {}
  },
  {
   "cell_type": "code",
   "execution_count": 44,
   "source": [
    "#Building vocabulary.\r\n",
    "model.build_vocab(text, progress_per=1000)"
   ],
   "outputs": [],
   "metadata": {}
  },
  {
   "cell_type": "code",
   "execution_count": 45,
   "source": [
    "model.corpus_count"
   ],
   "outputs": [
    {
     "output_type": "execute_result",
     "data": {
      "text/plain": [
       "14400"
      ]
     },
     "metadata": {},
     "execution_count": 45
    }
   ],
   "metadata": {}
  },
  {
   "cell_type": "code",
   "execution_count": 46,
   "source": [
    "#Train the model.\r\n",
    "model.train(text, total_examples=model.corpus_count, epochs=model.epochs)"
   ],
   "outputs": [
    {
     "output_type": "execute_result",
     "data": {
      "text/plain": [
       "(2234739, 2677960)"
      ]
     },
     "metadata": {},
     "execution_count": 46
    }
   ],
   "metadata": {}
  },
  {
   "cell_type": "code",
   "execution_count": 47,
   "source": [
    "#Checking most similar words.\r\n",
    "model.wv.most_similar(\"record\")"
   ],
   "outputs": [
    {
     "output_type": "execute_result",
     "data": {
      "text/plain": [
       "[('session', 0.9380367398262024),\n",
       " ('crude', 0.9365441203117371),\n",
       " ('futures', 0.9342104196548462),\n",
       " ('reassuring', 0.9272940158843994),\n",
       " ('barrel', 0.9228541851043701),\n",
       " ('highs', 0.918721616268158),\n",
       " ('unnerved', 0.9181026816368103),\n",
       " ('gains', 0.9164053201675415),\n",
       " ('gdp', 0.9132030010223389),\n",
       " ('average', 0.9119703769683838)]"
      ]
     },
     "metadata": {},
     "execution_count": 47
    }
   ],
   "metadata": {}
  },
  {
   "cell_type": "code",
   "execution_count": 48,
   "source": [
    "#Checking similarity percentage.\r\n",
    "model.wv.similarity( \"peace\",\"terror\")"
   ],
   "outputs": [
    {
     "output_type": "execute_result",
     "data": {
      "text/plain": [
       "0.7674436"
      ]
     },
     "metadata": {},
     "execution_count": 48
    }
   ],
   "metadata": {}
  },
  {
   "cell_type": "code",
   "execution_count": 49,
   "source": [
    "#Checking odd one out.\r\n",
    "model.wv.doesnt_match(['cloud','economy','back','stocks'])"
   ],
   "outputs": [
    {
     "output_type": "execute_result",
     "data": {
      "text/plain": [
       "'stocks'"
      ]
     },
     "metadata": {},
     "execution_count": 49
    }
   ],
   "metadata": {}
  }
 ],
 "metadata": {
  "orig_nbformat": 4,
  "language_info": {
   "name": "python",
   "version": "3.8.8",
   "mimetype": "text/x-python",
   "codemirror_mode": {
    "name": "ipython",
    "version": 3
   },
   "pygments_lexer": "ipython3",
   "nbconvert_exporter": "python",
   "file_extension": ".py"
  },
  "kernelspec": {
   "name": "python3",
   "display_name": "Python 3.8.8 64-bit"
  },
  "interpreter": {
   "hash": "3410afedb74081d81603511028deadddc25ba0f01c14e0cb891e2c2473f81884"
  }
 },
 "nbformat": 4,
 "nbformat_minor": 2
}